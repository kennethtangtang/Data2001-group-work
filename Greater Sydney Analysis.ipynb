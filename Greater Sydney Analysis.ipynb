{
 "cells": [
  {
   "cell_type": "code",
   "execution_count": 1,
   "id": "98260fb3",
   "metadata": {},
   "outputs": [
    {
     "name": "stdout",
     "output_type": "stream",
     "text": [
      "Connected successfully.\n"
     ]
    }
   ],
   "source": [
    "#python connect sql\n",
    "from sqlalchemy import create_engine, text\n",
    "import psycopg2\n",
    "import psycopg2.extras\n",
    "import pandas as pd\n",
    "import json\n",
    "import os\n",
    "\n",
    "credentials = \"Credentials.json\"\n",
    "\n",
    "def pgconnect(credential_filepath, db_schema=\"public\"):\n",
    "    with open(credential_filepath) as f:\n",
    "        db_conn_dict = json.load(f)\n",
    "        host = db_conn_dict['host']\n",
    "        db_user = db_conn_dict['user']\n",
    "        db_pw = db_conn_dict['password']\n",
    "        default_db = db_conn_dict['database']\n",
    "    try:\n",
    "        db = create_engine('postgresql+psycopg2://' + db_user + ':' + db_pw + '@' + host + '/' + default_db, echo=False)\n",
    "        conn = db.connect()\n",
    "        conn.autocommit = True\n",
    "        print('Connected successfully.')\n",
    "    except Exception as e:\n",
    "        print(\"Unable to connect to the database.\")\n",
    "        print(e)\n",
    "        db, conn = None, None\n",
    "    return db, conn\n",
    "\n",
    "def query(conn, sqlcmd, args=None, df=True):\n",
    "    result = pd.DataFrame() if df else None\n",
    "    try:\n",
    "        if df:\n",
    "            result = pd.read_sql_query(sqlcmd, conn, params=args)\n",
    "        else:\n",
    "            result = conn.execute(sqlcmd, args).fetchall()\n",
    "            result = result[0] if len(result) == 1 else result\n",
    "    except Exception as e:\n",
    "        print(\"Error encountered: \", e, sep='\\n')\n",
    "    return result\n",
    "\n",
    "db, conn = pgconnect(credentials)"
   ]
  },
  {
   "cell_type": "code",
   "execution_count": 2,
   "id": "e7ac201f",
   "metadata": {},
   "outputs": [],
   "source": [
    "import pandas as pd\n",
    "import geopandas as gpd\n",
    "from shapely.geometry import Point, Polygon, MultiPolygon\n",
    "from geoalchemy2 import Geometry, WKTElement\n",
    "import matplotlib.pyplot as plt\n",
    "import numpy as np\n",
    "\n",
    "srid = 4326\n",
    "SA2 = gpd.read_file(\"SA2_2021_AUST_SHP_GDA2020/SA2_2021_AUST_GDA2020.shp\")\n",
    "SA2 = SA2[SA2['GCC_NAME21'] == 'Greater Sydney']\n",
    "\n",
    "def create_wkt_element(geom, srid):\n",
    "    if geom.geom_type == 'Polygon':\n",
    "        geom = MultiPolygon([geom])\n",
    "    return WKTElement(geom.wkt, srid)\n",
    "\n",
    "SA2['geometry_wkt'] = SA2['geometry'].apply(lambda x: create_wkt_element(x, srid=srid))\n",
    "SA2 = SA2.drop(columns=['GCC_CODE21', 'GCC_NAME21', 'STE_CODE21', 'STE_NAME21', 'AUS_CODE21', 'AUS_NAME21', 'geometry'])\n"
   ]
  },
  {
   "cell_type": "code",
   "execution_count": 3,
   "id": "0e539324",
   "metadata": {},
   "outputs": [
    {
     "data": {
      "text/plain": [
       "<sqlalchemy.engine.cursor.LegacyCursorResult at 0x1098d80d0>"
      ]
     },
     "execution_count": 3,
     "metadata": {},
     "output_type": "execute_result"
    }
   ],
   "source": [
    "conn.execute(\"\"\"CREATE EXTENSION IF NOT EXISTS postgis;\n",
    "\"\"\")"
   ]
  },
  {
   "cell_type": "code",
   "execution_count": 4,
   "id": "e1368173",
   "metadata": {},
   "outputs": [
    {
     "data": {
      "text/plain": [
       "<sqlalchemy.engine.cursor.LegacyCursorResult at 0x13fddea10>"
      ]
     },
     "execution_count": 4,
     "metadata": {},
     "output_type": "execute_result"
    }
   ],
   "source": [
    "conn.execute(\"\"\"\n",
    "DROP TABLE IF EXISTS \"sa2\";\n",
    "CREATE TABLE \"sa2\" (\n",
    "    \"sa2_code21\" INTEGER PRIMARY KEY,\n",
    "    \"sa2_name21\" VARCHAR(50),\n",
    "    \"chg_flag21\" INTEGER,\n",
    "    \"chg_lbl21\" VARCHAR(20),\n",
    "    \"sa3_code21\" INTEGER,\n",
    "    \"sa3_name21\" VARCHAR(50),\n",
    "    \"sa4_code21\" INTEGER,\n",
    "    \"sa4_name21\" VARCHAR(50),\n",
    "    \"areasqkm21\" FLOAT,\n",
    "    \"loci_uri21\" VARCHAR(255),\n",
    "    geom GEOMETRY(MULTIPOLYGON, 4326)\n",
    ");\n",
    "\"\"\")"
   ]
  },
  {
   "cell_type": "code",
   "execution_count": 5,
   "id": "23d84c43",
   "metadata": {
    "scrolled": false
   },
   "outputs": [
    {
     "data": {
      "text/html": [
       "<div>\n",
       "<style scoped>\n",
       "    .dataframe tbody tr th:only-of-type {\n",
       "        vertical-align: middle;\n",
       "    }\n",
       "\n",
       "    .dataframe tbody tr th {\n",
       "        vertical-align: top;\n",
       "    }\n",
       "\n",
       "    .dataframe thead th {\n",
       "        text-align: right;\n",
       "    }\n",
       "</style>\n",
       "<table border=\"1\" class=\"dataframe\">\n",
       "  <thead>\n",
       "    <tr style=\"text-align: right;\">\n",
       "      <th></th>\n",
       "      <th>SA2_CODE21</th>\n",
       "      <th>SA2_NAME21</th>\n",
       "      <th>CHG_FLAG21</th>\n",
       "      <th>CHG_LBL21</th>\n",
       "      <th>SA3_CODE21</th>\n",
       "      <th>SA3_NAME21</th>\n",
       "      <th>SA4_CODE21</th>\n",
       "      <th>SA4_NAME21</th>\n",
       "      <th>AREASQKM21</th>\n",
       "      <th>LOCI_URI21</th>\n",
       "      <th>geometry_wkt</th>\n",
       "    </tr>\n",
       "  </thead>\n",
       "  <tbody>\n",
       "    <tr>\n",
       "      <th>0</th>\n",
       "      <td>102011028</td>\n",
       "      <td>Avoca Beach - Copacabana</td>\n",
       "      <td>0</td>\n",
       "      <td>No change</td>\n",
       "      <td>10201</td>\n",
       "      <td>Gosford</td>\n",
       "      <td>102</td>\n",
       "      <td>Central Coast</td>\n",
       "      <td>6.4376</td>\n",
       "      <td>http://linked.data.gov.au/dataset/asgsed3/SA2/...</td>\n",
       "      <td>0106000020E6100000010000000103000000010000005E...</td>\n",
       "    </tr>\n",
       "  </tbody>\n",
       "</table>\n",
       "</div>"
      ],
      "text/plain": [
       "  SA2_CODE21                SA2_NAME21 CHG_FLAG21  CHG_LBL21 SA3_CODE21  \\\n",
       "0  102011028  Avoca Beach - Copacabana          0  No change      10201   \n",
       "\n",
       "  SA3_NAME21 SA4_CODE21     SA4_NAME21  AREASQKM21  \\\n",
       "0    Gosford        102  Central Coast      6.4376   \n",
       "\n",
       "                                          LOCI_URI21  \\\n",
       "0  http://linked.data.gov.au/dataset/asgsed3/SA2/...   \n",
       "\n",
       "                                        geometry_wkt  \n",
       "0  0106000020E6100000010000000103000000010000005E...  "
      ]
     },
     "execution_count": 5,
     "metadata": {},
     "output_type": "execute_result"
    }
   ],
   "source": [
    "SA2.to_sql(\"sa2\", conn, if_exists='replace', index=False, dtype={\n",
    "    'geometry_wkt': Geometry('MULTIPOLYGON', srid=4326)\n",
    "})\n",
    "query(conn, 'SELECT * FROM \"sa2\"').head(1)"
   ]
  },
  {
   "cell_type": "code",
   "execution_count": 6,
   "id": "6e112292",
   "metadata": {},
   "outputs": [],
   "source": [
    "businesses = pd.read_csv('Businesses.csv')"
   ]
  },
  {
   "cell_type": "code",
   "execution_count": 7,
   "id": "6dbdbdab",
   "metadata": {},
   "outputs": [
    {
     "data": {
      "text/plain": [
       "<sqlalchemy.engine.cursor.LegacyCursorResult at 0x149025890>"
      ]
     },
     "execution_count": 7,
     "metadata": {},
     "output_type": "execute_result"
    }
   ],
   "source": [
    "conn.execute(\"\"\"\n",
    "DROP TABLE IF EXISTS businesses;\n",
    "CREATE TABLE businesses (\n",
    "    \"industry_code\" VARCHAR(5) PRIMARY KEY,\n",
    "    \"industry_name\" VARCHAR(50),\n",
    "    \"sa2_code\" INTEGER,\n",
    "    \"sa2_name\" VARCHAR(50),\n",
    "    \"0_to_50k_businesses\" INTEGER,\n",
    "    \"50k_to_200k_businesses\" INTEGER,\n",
    "    \"200k_to_2m_businesses\" INTEGER,\n",
    "    \"2m_to_5m_businesses\" INTEGER,\n",
    "    \"5m_to_10m_businesses\" INTEGER,\n",
    "    \"10m_or_more_businesses\" INTEGER,\n",
    "    total_businesses INTEGER\n",
    ");\n",
    "\"\"\")"
   ]
  },
  {
   "cell_type": "code",
   "execution_count": 8,
   "id": "b29b4073",
   "metadata": {},
   "outputs": [
    {
     "data": {
      "text/html": [
       "<div>\n",
       "<style scoped>\n",
       "    .dataframe tbody tr th:only-of-type {\n",
       "        vertical-align: middle;\n",
       "    }\n",
       "\n",
       "    .dataframe tbody tr th {\n",
       "        vertical-align: top;\n",
       "    }\n",
       "\n",
       "    .dataframe thead th {\n",
       "        text-align: right;\n",
       "    }\n",
       "</style>\n",
       "<table border=\"1\" class=\"dataframe\">\n",
       "  <thead>\n",
       "    <tr style=\"text-align: right;\">\n",
       "      <th></th>\n",
       "      <th>industry_code</th>\n",
       "      <th>industry_name</th>\n",
       "      <th>sa2_code</th>\n",
       "      <th>sa2_name</th>\n",
       "      <th>0_to_50k_businesses</th>\n",
       "      <th>50k_to_200k_businesses</th>\n",
       "      <th>200k_to_2m_businesses</th>\n",
       "      <th>2m_to_5m_businesses</th>\n",
       "      <th>5m_to_10m_businesses</th>\n",
       "      <th>10m_or_more_businesses</th>\n",
       "      <th>total_businesses</th>\n",
       "    </tr>\n",
       "  </thead>\n",
       "  <tbody>\n",
       "    <tr>\n",
       "      <th>0</th>\n",
       "      <td>A</td>\n",
       "      <td>Agriculture, Forestry and Fishing</td>\n",
       "      <td>101021007</td>\n",
       "      <td>Braidwood</td>\n",
       "      <td>136</td>\n",
       "      <td>92</td>\n",
       "      <td>63</td>\n",
       "      <td>4</td>\n",
       "      <td>0</td>\n",
       "      <td>0</td>\n",
       "      <td>296</td>\n",
       "    </tr>\n",
       "  </tbody>\n",
       "</table>\n",
       "</div>"
      ],
      "text/plain": [
       "  industry_code                      industry_name   sa2_code   sa2_name  \\\n",
       "0             A  Agriculture, Forestry and Fishing  101021007  Braidwood   \n",
       "\n",
       "   0_to_50k_businesses  50k_to_200k_businesses  200k_to_2m_businesses  \\\n",
       "0                  136                      92                     63   \n",
       "\n",
       "   2m_to_5m_businesses  5m_to_10m_businesses  10m_or_more_businesses  \\\n",
       "0                    4                     0                       0   \n",
       "\n",
       "   total_businesses  \n",
       "0               296  "
      ]
     },
     "execution_count": 8,
     "metadata": {},
     "output_type": "execute_result"
    }
   ],
   "source": [
    "businesses.to_sql(\"businesses\", conn, if_exists='replace', index=False)\n",
    "query(conn, 'SELECT * FROM \"businesses\"').head(1)"
   ]
  },
  {
   "cell_type": "code",
   "execution_count": 9,
   "id": "e6e0a3b2",
   "metadata": {},
   "outputs": [
    {
     "data": {
      "text/plain": [
       "sa2_code21        int64\n",
       "sa2_name         object\n",
       "earners           int64\n",
       "median_age        int64\n",
       "median_income     int64\n",
       "mean_income       int64\n",
       "dtype: object"
      ]
     },
     "execution_count": 9,
     "metadata": {},
     "output_type": "execute_result"
    }
   ],
   "source": [
    "income = pd.read_csv('Income.csv')\n",
    "\n",
    "cols_to_convert = ['earners', 'median_age', 'median_income', 'mean_income']\n",
    "income[cols_to_convert] = income[cols_to_convert].replace('np', np.nan)\n",
    "for col in cols_to_convert:\n",
    "    income[col] = pd.to_numeric(income[col], errors='coerce')\n",
    "    median_val = income[col].median()\n",
    "    income[col] = income[col].fillna(median_val).astype(int) \n",
    "income.dtypes"
   ]
  },
  {
   "cell_type": "code",
   "execution_count": 10,
   "id": "61719f23",
   "metadata": {},
   "outputs": [
    {
     "data": {
      "text/plain": [
       "<sqlalchemy.engine.cursor.LegacyCursorResult at 0x1484d9310>"
      ]
     },
     "execution_count": 10,
     "metadata": {},
     "output_type": "execute_result"
    }
   ],
   "source": [
    "conn.execute(\"\"\"\n",
    "DROP TABLE IF EXISTS income;\n",
    "CREATE TABLE income (\n",
    "    \"sa2_code21\" INTEGER PRIMARY KEY,\n",
    "    \"sa2_name\" VARCHAR(50),\n",
    "    \"earners\" INTEGER,\n",
    "    \"median_age\" INTEGER,\n",
    "    \"median_income\" INTEGER,\n",
    "    \"mean_income\" INTEGER\n",
    ");\n",
    "\"\"\")"
   ]
  },
  {
   "cell_type": "code",
   "execution_count": 11,
   "id": "1ae1d9b9",
   "metadata": {},
   "outputs": [
    {
     "data": {
      "text/html": [
       "<div>\n",
       "<style scoped>\n",
       "    .dataframe tbody tr th:only-of-type {\n",
       "        vertical-align: middle;\n",
       "    }\n",
       "\n",
       "    .dataframe tbody tr th {\n",
       "        vertical-align: top;\n",
       "    }\n",
       "\n",
       "    .dataframe thead th {\n",
       "        text-align: right;\n",
       "    }\n",
       "</style>\n",
       "<table border=\"1\" class=\"dataframe\">\n",
       "  <thead>\n",
       "    <tr style=\"text-align: right;\">\n",
       "      <th></th>\n",
       "      <th>sa2_code21</th>\n",
       "      <th>sa2_name</th>\n",
       "      <th>earners</th>\n",
       "      <th>median_age</th>\n",
       "      <th>median_income</th>\n",
       "      <th>mean_income</th>\n",
       "    </tr>\n",
       "  </thead>\n",
       "  <tbody>\n",
       "    <tr>\n",
       "      <th>0</th>\n",
       "      <td>101021007</td>\n",
       "      <td>Braidwood</td>\n",
       "      <td>2467</td>\n",
       "      <td>51</td>\n",
       "      <td>46640</td>\n",
       "      <td>68904</td>\n",
       "    </tr>\n",
       "  </tbody>\n",
       "</table>\n",
       "</div>"
      ],
      "text/plain": [
       "   sa2_code21   sa2_name  earners  median_age  median_income  mean_income\n",
       "0   101021007  Braidwood     2467          51          46640        68904"
      ]
     },
     "execution_count": 11,
     "metadata": {},
     "output_type": "execute_result"
    }
   ],
   "source": [
    "income.to_sql(\"income\", conn, if_exists='replace', index=False)\n",
    "query(conn, 'SELECT * FROM \"income\"').head(1)"
   ]
  },
  {
   "cell_type": "code",
   "execution_count": 12,
   "id": "4850d49e",
   "metadata": {},
   "outputs": [
    {
     "data": {
      "text/html": [
       "<div>\n",
       "<style scoped>\n",
       "    .dataframe tbody tr th:only-of-type {\n",
       "        vertical-align: middle;\n",
       "    }\n",
       "\n",
       "    .dataframe tbody tr th {\n",
       "        vertical-align: top;\n",
       "    }\n",
       "\n",
       "    .dataframe thead th {\n",
       "        text-align: right;\n",
       "    }\n",
       "</style>\n",
       "<table border=\"1\" class=\"dataframe\">\n",
       "  <thead>\n",
       "    <tr style=\"text-align: right;\">\n",
       "      <th></th>\n",
       "      <th>stop_id</th>\n",
       "      <th>stop_code</th>\n",
       "      <th>stop_name</th>\n",
       "      <th>stop_lat</th>\n",
       "      <th>stop_lon</th>\n",
       "      <th>location_type</th>\n",
       "      <th>parent_station</th>\n",
       "      <th>wheelchair_boarding</th>\n",
       "      <th>platform_code</th>\n",
       "      <th>geometry</th>\n",
       "    </tr>\n",
       "  </thead>\n",
       "  <tbody>\n",
       "    <tr>\n",
       "      <th>0</th>\n",
       "      <td>200039</td>\n",
       "      <td>200039.0</td>\n",
       "      <td>Central Station, Eddy Av, Stand A</td>\n",
       "      <td>-33.882206</td>\n",
       "      <td>151.206665</td>\n",
       "      <td>NaN</td>\n",
       "      <td>200060</td>\n",
       "      <td>0</td>\n",
       "      <td>NaN</td>\n",
       "      <td>POINT (151.20666 -33.88221)</td>\n",
       "    </tr>\n",
       "  </tbody>\n",
       "</table>\n",
       "</div>"
      ],
      "text/plain": [
       "  stop_id  stop_code                          stop_name   stop_lat  \\\n",
       "0  200039   200039.0  Central Station, Eddy Av, Stand A -33.882206   \n",
       "\n",
       "     stop_lon  location_type parent_station  wheelchair_boarding  \\\n",
       "0  151.206665            NaN         200060                    0   \n",
       "\n",
       "  platform_code                     geometry  \n",
       "0           NaN  POINT (151.20666 -33.88221)  "
      ]
     },
     "execution_count": 12,
     "metadata": {},
     "output_type": "execute_result"
    }
   ],
   "source": [
    "stops = pd.read_csv('Stops.txt', quotechar='\"')\n",
    "stops['geometry'] = gpd.points_from_xy(stops['stop_lon'], stops['stop_lat'])\n",
    "stops.head(1)"
   ]
  },
  {
   "cell_type": "code",
   "execution_count": 13,
   "id": "59ff4342",
   "metadata": {},
   "outputs": [
    {
     "data": {
      "text/plain": [
       "<sqlalchemy.engine.cursor.LegacyCursorResult at 0x14db52310>"
      ]
     },
     "execution_count": 13,
     "metadata": {},
     "output_type": "execute_result"
    }
   ],
   "source": [
    "conn.execute(\"\"\"\n",
    "DROP TABLE IF EXISTS stops;\n",
    "CREATE TABLE stops (\n",
    "    stop_id VARCHAR(20) PRIMARY KEY,\n",
    "    stop_code VARCHAR(20),\n",
    "    stop_name VARCHAR(255),\n",
    "    stop_lat VARCHAR(255),\n",
    "    stop_lon VARCHAR(255),\n",
    "    location_type VARCHAR(255),\n",
    "    parent_station VARCHAR(255),\n",
    "    wheelchair_boarding VARCHAR(255),\n",
    "    platform_code VARCHAR(255),\n",
    "    geometry_wkt GEOMETRY(POINT,4326)\n",
    ");\n",
    "\"\"\")"
   ]
  },
  {
   "cell_type": "code",
   "execution_count": 14,
   "id": "cfbbb4dd",
   "metadata": {},
   "outputs": [
    {
     "data": {
      "text/html": [
       "<div>\n",
       "<style scoped>\n",
       "    .dataframe tbody tr th:only-of-type {\n",
       "        vertical-align: middle;\n",
       "    }\n",
       "\n",
       "    .dataframe tbody tr th {\n",
       "        vertical-align: top;\n",
       "    }\n",
       "\n",
       "    .dataframe thead th {\n",
       "        text-align: right;\n",
       "    }\n",
       "</style>\n",
       "<table border=\"1\" class=\"dataframe\">\n",
       "  <thead>\n",
       "    <tr style=\"text-align: right;\">\n",
       "      <th></th>\n",
       "      <th>stop_id</th>\n",
       "      <th>stop_code</th>\n",
       "      <th>stop_name</th>\n",
       "      <th>stop_lat</th>\n",
       "      <th>stop_lon</th>\n",
       "      <th>location_type</th>\n",
       "      <th>parent_station</th>\n",
       "      <th>wheelchair_boarding</th>\n",
       "      <th>platform_code</th>\n",
       "      <th>geometry_wkt</th>\n",
       "    </tr>\n",
       "  </thead>\n",
       "  <tbody>\n",
       "    <tr>\n",
       "      <th>0</th>\n",
       "      <td>200039</td>\n",
       "      <td>200039.0</td>\n",
       "      <td>Central Station, Eddy Av, Stand A</td>\n",
       "      <td>-33.882206</td>\n",
       "      <td>151.206665</td>\n",
       "      <td>NaN</td>\n",
       "      <td>200060</td>\n",
       "      <td>0</td>\n",
       "      <td>None</td>\n",
       "      <td>0101000020E6100000FFA631FF9CE66240A1FF6524ECF0...</td>\n",
       "    </tr>\n",
       "  </tbody>\n",
       "</table>\n",
       "</div>"
      ],
      "text/plain": [
       "  stop_id  stop_code                          stop_name   stop_lat  \\\n",
       "0  200039   200039.0  Central Station, Eddy Av, Stand A -33.882206   \n",
       "\n",
       "     stop_lon  location_type parent_station  wheelchair_boarding  \\\n",
       "0  151.206665            NaN         200060                    0   \n",
       "\n",
       "  platform_code                                       geometry_wkt  \n",
       "0          None  0101000020E6100000FFA631FF9CE66240A1FF6524ECF0...  "
      ]
     },
     "execution_count": 14,
     "metadata": {},
     "output_type": "execute_result"
    }
   ],
   "source": [
    "def create_wkt_element(geom, srid=4326):\n",
    "    return WKTElement(geom.wkt, srid)\n",
    "stops['geometry_wkt'] = stops['geometry'].apply(lambda x: create_wkt_element(x, srid=srid))\n",
    "stops = stops.drop(columns=['geometry'])\n",
    "stops.to_sql('stops', conn, if_exists='replace', index=False, dtype={'geometry_wkt': Geometry('POINT', srid=4326)})\n",
    "query(conn, 'SELECT * FROM \"stops\"').head(1)"
   ]
  },
  {
   "cell_type": "code",
   "execution_count": 15,
   "id": "89b24012",
   "metadata": {},
   "outputs": [],
   "source": [
    "population = pd.read_csv('Population.csv')"
   ]
  },
  {
   "cell_type": "code",
   "execution_count": 16,
   "id": "2f873936",
   "metadata": {},
   "outputs": [
    {
     "data": {
      "text/plain": [
       "<sqlalchemy.engine.cursor.LegacyCursorResult at 0x1692d4cd0>"
      ]
     },
     "execution_count": 16,
     "metadata": {},
     "output_type": "execute_result"
    }
   ],
   "source": [
    "conn.execute(\"\"\"\n",
    "DROP TABLE IF EXISTS population;\n",
    "CREATE TABLE population (\n",
    "    \"sa2_code\" INTEGER PRIMARY KEY,\n",
    "    \"sa2_name\" VARCHAR(50),\n",
    "    \"0-4_people\" INTEGER,\n",
    "    \"5-9_people\" INTEGER,\n",
    "    \"10-14_people\" INTEGER,\n",
    "    \"15-19_people\" INTEGER,\n",
    "    \"20-24_people\" INTEGER,\n",
    "    \"25-29_people\" INTEGER,\n",
    "    \"30-34_people\" INTEGER,\n",
    "    \"35-39_people\" INTEGER,\n",
    "    \"40-44_people\" INTEGER,\n",
    "    \"45-49_people\" INTEGER,\n",
    "    \"50-54_people\" INTEGER,\n",
    "    \"55-59_people\" INTEGER,\n",
    "    \"60-64_people\" INTEGER,\n",
    "    \"65-69_people\" INTEGER,\n",
    "    \"70-74_people\" INTEGER,\n",
    "    \"75-79_people\" INTEGER,\n",
    "    \"80-84_people\" INTEGER,\n",
    "    \"85-and-over_people\" INTEGER,\n",
    "    \"total_people\" INTEGER\n",
    ");\n",
    "\"\"\")\n"
   ]
  },
  {
   "cell_type": "code",
   "execution_count": 17,
   "id": "5b3285fc",
   "metadata": {},
   "outputs": [
    {
     "data": {
      "text/html": [
       "<div>\n",
       "<style scoped>\n",
       "    .dataframe tbody tr th:only-of-type {\n",
       "        vertical-align: middle;\n",
       "    }\n",
       "\n",
       "    .dataframe tbody tr th {\n",
       "        vertical-align: top;\n",
       "    }\n",
       "\n",
       "    .dataframe thead th {\n",
       "        text-align: right;\n",
       "    }\n",
       "</style>\n",
       "<table border=\"1\" class=\"dataframe\">\n",
       "  <thead>\n",
       "    <tr style=\"text-align: right;\">\n",
       "      <th></th>\n",
       "      <th>sa2_code</th>\n",
       "      <th>sa2_name</th>\n",
       "      <th>0-4_people</th>\n",
       "      <th>5-9_people</th>\n",
       "      <th>10-14_people</th>\n",
       "      <th>15-19_people</th>\n",
       "      <th>20-24_people</th>\n",
       "      <th>25-29_people</th>\n",
       "      <th>30-34_people</th>\n",
       "      <th>35-39_people</th>\n",
       "      <th>...</th>\n",
       "      <th>45-49_people</th>\n",
       "      <th>50-54_people</th>\n",
       "      <th>55-59_people</th>\n",
       "      <th>60-64_people</th>\n",
       "      <th>65-69_people</th>\n",
       "      <th>70-74_people</th>\n",
       "      <th>75-79_people</th>\n",
       "      <th>80-84_people</th>\n",
       "      <th>85-and-over_people</th>\n",
       "      <th>total_people</th>\n",
       "    </tr>\n",
       "  </thead>\n",
       "  <tbody>\n",
       "    <tr>\n",
       "      <th>0</th>\n",
       "      <td>102011028</td>\n",
       "      <td>Avoca Beach - Copacabana</td>\n",
       "      <td>424</td>\n",
       "      <td>522</td>\n",
       "      <td>623</td>\n",
       "      <td>552</td>\n",
       "      <td>386</td>\n",
       "      <td>222</td>\n",
       "      <td>306</td>\n",
       "      <td>416</td>\n",
       "      <td>...</td>\n",
       "      <td>572</td>\n",
       "      <td>602</td>\n",
       "      <td>570</td>\n",
       "      <td>520</td>\n",
       "      <td>464</td>\n",
       "      <td>369</td>\n",
       "      <td>226</td>\n",
       "      <td>142</td>\n",
       "      <td>70</td>\n",
       "      <td>7530</td>\n",
       "    </tr>\n",
       "  </tbody>\n",
       "</table>\n",
       "<p>1 rows × 21 columns</p>\n",
       "</div>"
      ],
      "text/plain": [
       "    sa2_code                  sa2_name  0-4_people  5-9_people  10-14_people  \\\n",
       "0  102011028  Avoca Beach - Copacabana         424         522           623   \n",
       "\n",
       "   15-19_people  20-24_people  25-29_people  30-34_people  35-39_people  ...  \\\n",
       "0           552           386           222           306           416  ...   \n",
       "\n",
       "   45-49_people  50-54_people  55-59_people  60-64_people  65-69_people  \\\n",
       "0           572           602           570           520           464   \n",
       "\n",
       "   70-74_people  75-79_people  80-84_people  85-and-over_people  total_people  \n",
       "0           369           226           142                  70          7530  \n",
       "\n",
       "[1 rows x 21 columns]"
      ]
     },
     "execution_count": 17,
     "metadata": {},
     "output_type": "execute_result"
    }
   ],
   "source": [
    "population.to_sql(\"population\", conn, if_exists='replace', index=False)\n",
    "query(conn, 'SELECT * FROM \"population\"').head(1)"
   ]
  },
  {
   "cell_type": "code",
   "execution_count": 18,
   "id": "ad1136c5",
   "metadata": {},
   "outputs": [],
   "source": [
    "pollingplaces2019 = pd.read_csv('PollingPlaces2019.csv')\n",
    "pollingplaces2019['the_geom'] = gpd.points_from_xy(pollingplaces2019.longitude, pollingplaces2019.latitude)\n",
    "pollingplaces2019['geometry_wkt'] = pollingplaces2019['the_geom'].apply(lambda x: create_wkt_element(geom=x, srid=srid)) \n",
    "pollingplaces2019 = pollingplaces2019.drop(columns=['premises_state_abbreviation', 'the_geom'])"
   ]
  },
  {
   "cell_type": "code",
   "execution_count": 19,
   "id": "86c8573d",
   "metadata": {},
   "outputs": [
    {
     "data": {
      "text/plain": [
       "<sqlalchemy.engine.cursor.LegacyCursorResult at 0x1484db690>"
      ]
     },
     "execution_count": 19,
     "metadata": {},
     "output_type": "execute_result"
    }
   ],
   "source": [
    "conn.execute(\"\"\"\n",
    "DROP TABLE IF EXISTS pollingplaces2019;\n",
    "CREATE TABLE pollingplaces2019 (\n",
    "    \"FID\" VARCHAR(100),\n",
    "    \"state\" VARCHAR(10),\n",
    "    \"division_id\" INTEGER,\n",
    "    \"division_name\" VARCHAR(10),\n",
    "    \"polling_place_id\" INTEGER PRIMARY KEY,\n",
    "    \"polling_place_type_id\" INTEGER,\n",
    "    \"polling_place_name\" VARCHAR(50),\n",
    "    \"premises_name\" VARCHAR(50),\n",
    "    \"premises_address_1\" VARCHAR(50),\n",
    "    \"premises_address_2\" VARCHAR(50),\n",
    "    \"premises_address_3\" VARCHAR(50),\n",
    "    \"premises_suburb\" VARCHAR(50),\n",
    "    \"premises_post_code\" INTEGER,\n",
    "    \"latitude\" FLOAT,\n",
    "    \"longitude\" FLOAT,\n",
    "    geometry_wkt GEOMETRY(MULTIPOLYGON,4326)\n",
    ");\n",
    "\"\"\")"
   ]
  },
  {
   "cell_type": "code",
   "execution_count": 20,
   "id": "4cbdc43c",
   "metadata": {},
   "outputs": [
    {
     "data": {
      "text/html": [
       "<div>\n",
       "<style scoped>\n",
       "    .dataframe tbody tr th:only-of-type {\n",
       "        vertical-align: middle;\n",
       "    }\n",
       "\n",
       "    .dataframe tbody tr th {\n",
       "        vertical-align: top;\n",
       "    }\n",
       "\n",
       "    .dataframe thead th {\n",
       "        text-align: right;\n",
       "    }\n",
       "</style>\n",
       "<table border=\"1\" class=\"dataframe\">\n",
       "  <thead>\n",
       "    <tr style=\"text-align: right;\">\n",
       "      <th></th>\n",
       "      <th>FID</th>\n",
       "      <th>state</th>\n",
       "      <th>division_id</th>\n",
       "      <th>division_name</th>\n",
       "      <th>polling_place_id</th>\n",
       "      <th>polling_place_type_id</th>\n",
       "      <th>polling_place_name</th>\n",
       "      <th>premises_name</th>\n",
       "      <th>premises_address_1</th>\n",
       "      <th>premises_address_2</th>\n",
       "      <th>premises_address_3</th>\n",
       "      <th>premises_suburb</th>\n",
       "      <th>premises_post_code</th>\n",
       "      <th>latitude</th>\n",
       "      <th>longitude</th>\n",
       "      <th>geometry_wkt</th>\n",
       "    </tr>\n",
       "  </thead>\n",
       "  <tbody>\n",
       "    <tr>\n",
       "      <th>0</th>\n",
       "      <td>aec_federal_election_polling_places_2019.fid-4...</td>\n",
       "      <td>NSW</td>\n",
       "      <td>104</td>\n",
       "      <td>Barton</td>\n",
       "      <td>33595</td>\n",
       "      <td>2</td>\n",
       "      <td>Special Hospital Team 1</td>\n",
       "      <td>Multiple sites</td>\n",
       "      <td>None</td>\n",
       "      <td>None</td>\n",
       "      <td>None</td>\n",
       "      <td>None</td>\n",
       "      <td>NaN</td>\n",
       "      <td>NaN</td>\n",
       "      <td>NaN</td>\n",
       "      <td>0101000020E6100000000000000000F87F000000000000...</td>\n",
       "    </tr>\n",
       "  </tbody>\n",
       "</table>\n",
       "</div>"
      ],
      "text/plain": [
       "                                                 FID state  division_id  \\\n",
       "0  aec_federal_election_polling_places_2019.fid-4...   NSW          104   \n",
       "\n",
       "  division_name  polling_place_id  polling_place_type_id  \\\n",
       "0        Barton             33595                      2   \n",
       "\n",
       "        polling_place_name   premises_name premises_address_1  \\\n",
       "0  Special Hospital Team 1  Multiple sites               None   \n",
       "\n",
       "  premises_address_2 premises_address_3 premises_suburb  premises_post_code  \\\n",
       "0               None               None            None                 NaN   \n",
       "\n",
       "   latitude  longitude                                       geometry_wkt  \n",
       "0       NaN        NaN  0101000020E6100000000000000000F87F000000000000...  "
      ]
     },
     "execution_count": 20,
     "metadata": {},
     "output_type": "execute_result"
    }
   ],
   "source": [
    "pollingplaces2019.to_sql('pollingplaces2019', conn, if_exists='replace', index=False, dtype={'geometry_wkt': Geometry('POINT', srid=4326)})\n",
    "query(conn, 'SELECT * FROM \"pollingplaces2019\"').head(1)"
   ]
  },
  {
   "cell_type": "code",
   "execution_count": 21,
   "id": "e6108935",
   "metadata": {},
   "outputs": [
    {
     "data": {
      "text/html": [
       "<div>\n",
       "<style scoped>\n",
       "    .dataframe tbody tr th:only-of-type {\n",
       "        vertical-align: middle;\n",
       "    }\n",
       "\n",
       "    .dataframe tbody tr th {\n",
       "        vertical-align: top;\n",
       "    }\n",
       "\n",
       "    .dataframe thead th {\n",
       "        text-align: right;\n",
       "    }\n",
       "</style>\n",
       "<table border=\"1\" class=\"dataframe\">\n",
       "  <thead>\n",
       "    <tr style=\"text-align: right;\">\n",
       "      <th></th>\n",
       "      <th>USE_ID</th>\n",
       "      <th>CATCH_TYPE</th>\n",
       "      <th>USE_DESC</th>\n",
       "      <th>ADD_DATE</th>\n",
       "      <th>KINDERGART</th>\n",
       "      <th>YEAR1</th>\n",
       "      <th>YEAR2</th>\n",
       "      <th>YEAR3</th>\n",
       "      <th>YEAR4</th>\n",
       "      <th>YEAR5</th>\n",
       "      <th>YEAR6</th>\n",
       "      <th>YEAR7</th>\n",
       "      <th>YEAR8</th>\n",
       "      <th>YEAR9</th>\n",
       "      <th>YEAR10</th>\n",
       "      <th>YEAR11</th>\n",
       "      <th>YEAR12</th>\n",
       "      <th>geometry_wkt</th>\n",
       "    </tr>\n",
       "  </thead>\n",
       "  <tbody>\n",
       "    <tr>\n",
       "      <th>0</th>\n",
       "      <td>8416</td>\n",
       "      <td>HIGH_COED</td>\n",
       "      <td>Ku-ring-gai HS</td>\n",
       "      <td>20230114</td>\n",
       "      <td>0</td>\n",
       "      <td>0</td>\n",
       "      <td>0</td>\n",
       "      <td>0</td>\n",
       "      <td>0</td>\n",
       "      <td>0</td>\n",
       "      <td>0</td>\n",
       "      <td>2024</td>\n",
       "      <td>2024</td>\n",
       "      <td>2024</td>\n",
       "      <td>2024</td>\n",
       "      <td>2024</td>\n",
       "      <td>2024</td>\n",
       "      <td>MULTIPOLYGON (((151.19848917708944 -33.5398987...</td>\n",
       "    </tr>\n",
       "  </tbody>\n",
       "</table>\n",
       "</div>"
      ],
      "text/plain": [
       "  USE_ID CATCH_TYPE        USE_DESC  ADD_DATE  KINDERGART  YEAR1  YEAR2  \\\n",
       "0   8416  HIGH_COED  Ku-ring-gai HS  20230114           0      0      0   \n",
       "\n",
       "   YEAR3  YEAR4  YEAR5  YEAR6  YEAR7  YEAR8  YEAR9  YEAR10  YEAR11  YEAR12  \\\n",
       "0      0      0      0      0   2024   2024   2024    2024    2024    2024   \n",
       "\n",
       "                                        geometry_wkt  \n",
       "0  MULTIPOLYGON (((151.19848917708944 -33.5398987...  "
      ]
     },
     "execution_count": 21,
     "metadata": {},
     "output_type": "execute_result"
    }
   ],
   "source": [
    "def create_wkt_element(geom, srid):\n",
    "    if geom.geom_type == 'Polygon':\n",
    "        geom = MultiPolygon([geom])\n",
    "    return WKTElement(geom.wkt, srid)\n",
    "catchments_future = gpd.read_file(\"catchments/catchments_future.shp\")\n",
    "catchments_future['geometry_wkt'] = catchments_future['geometry'].apply(lambda x: create_wkt_element(geom=x, srid=srid)) \n",
    "catchments_future = catchments_future.drop(columns=\"geometry\")\n",
    "catchments_future.head(1)"
   ]
  },
  {
   "cell_type": "code",
   "execution_count": 22,
   "id": "e96b0c7e",
   "metadata": {},
   "outputs": [
    {
     "data": {
      "text/html": [
       "<div>\n",
       "<style scoped>\n",
       "    .dataframe tbody tr th:only-of-type {\n",
       "        vertical-align: middle;\n",
       "    }\n",
       "\n",
       "    .dataframe tbody tr th {\n",
       "        vertical-align: top;\n",
       "    }\n",
       "\n",
       "    .dataframe thead th {\n",
       "        text-align: right;\n",
       "    }\n",
       "</style>\n",
       "<table border=\"1\" class=\"dataframe\">\n",
       "  <thead>\n",
       "    <tr style=\"text-align: right;\">\n",
       "      <th></th>\n",
       "      <th>USE_ID</th>\n",
       "      <th>CATCH_TYPE</th>\n",
       "      <th>USE_DESC</th>\n",
       "      <th>ADD_DATE</th>\n",
       "      <th>KINDERGART</th>\n",
       "      <th>YEAR1</th>\n",
       "      <th>YEAR2</th>\n",
       "      <th>YEAR3</th>\n",
       "      <th>YEAR4</th>\n",
       "      <th>YEAR5</th>\n",
       "      <th>YEAR6</th>\n",
       "      <th>YEAR7</th>\n",
       "      <th>YEAR8</th>\n",
       "      <th>YEAR9</th>\n",
       "      <th>YEAR10</th>\n",
       "      <th>YEAR11</th>\n",
       "      <th>YEAR12</th>\n",
       "      <th>PRIORITY</th>\n",
       "      <th>geometry_wkt</th>\n",
       "    </tr>\n",
       "  </thead>\n",
       "  <tbody>\n",
       "    <tr>\n",
       "      <th>0</th>\n",
       "      <td>2838</td>\n",
       "      <td>PRIMARY</td>\n",
       "      <td>Parklea PS</td>\n",
       "      <td>20181210</td>\n",
       "      <td>Y</td>\n",
       "      <td>Y</td>\n",
       "      <td>Y</td>\n",
       "      <td>Y</td>\n",
       "      <td>Y</td>\n",
       "      <td>Y</td>\n",
       "      <td>Y</td>\n",
       "      <td>N</td>\n",
       "      <td>N</td>\n",
       "      <td>N</td>\n",
       "      <td>N</td>\n",
       "      <td>N</td>\n",
       "      <td>N</td>\n",
       "      <td>None</td>\n",
       "      <td>MULTIPOLYGON (((150.93563850416004 -33.7161211...</td>\n",
       "    </tr>\n",
       "  </tbody>\n",
       "</table>\n",
       "</div>"
      ],
      "text/plain": [
       "  USE_ID CATCH_TYPE    USE_DESC  ADD_DATE KINDERGART YEAR1 YEAR2 YEAR3 YEAR4  \\\n",
       "0   2838    PRIMARY  Parklea PS  20181210          Y     Y     Y     Y     Y   \n",
       "\n",
       "  YEAR5 YEAR6 YEAR7 YEAR8 YEAR9 YEAR10 YEAR11 YEAR12 PRIORITY  \\\n",
       "0     Y     Y     N     N     N      N      N      N     None   \n",
       "\n",
       "                                        geometry_wkt  \n",
       "0  MULTIPOLYGON (((150.93563850416004 -33.7161211...  "
      ]
     },
     "execution_count": 22,
     "metadata": {},
     "output_type": "execute_result"
    }
   ],
   "source": [
    "catchments_primary = gpd.read_file(\"catchments/catchments_primary.shp\")\n",
    "catchments_primary['geometry_wkt'] = catchments_primary['geometry'].apply(lambda x: create_wkt_element(geom=x, srid=srid)) \n",
    "catchments_primary = catchments_primary.drop(columns=\"geometry\")\n",
    "catchments_primary.head(1)"
   ]
  },
  {
   "cell_type": "code",
   "execution_count": 23,
   "id": "8ae49cc8",
   "metadata": {},
   "outputs": [
    {
     "data": {
      "text/html": [
       "<div>\n",
       "<style scoped>\n",
       "    .dataframe tbody tr th:only-of-type {\n",
       "        vertical-align: middle;\n",
       "    }\n",
       "\n",
       "    .dataframe tbody tr th {\n",
       "        vertical-align: top;\n",
       "    }\n",
       "\n",
       "    .dataframe thead th {\n",
       "        text-align: right;\n",
       "    }\n",
       "</style>\n",
       "<table border=\"1\" class=\"dataframe\">\n",
       "  <thead>\n",
       "    <tr style=\"text-align: right;\">\n",
       "      <th></th>\n",
       "      <th>USE_ID</th>\n",
       "      <th>CATCH_TYPE</th>\n",
       "      <th>USE_DESC</th>\n",
       "      <th>ADD_DATE</th>\n",
       "      <th>KINDERGART</th>\n",
       "      <th>YEAR1</th>\n",
       "      <th>YEAR2</th>\n",
       "      <th>YEAR3</th>\n",
       "      <th>YEAR4</th>\n",
       "      <th>YEAR5</th>\n",
       "      <th>YEAR6</th>\n",
       "      <th>YEAR7</th>\n",
       "      <th>YEAR8</th>\n",
       "      <th>YEAR9</th>\n",
       "      <th>YEAR10</th>\n",
       "      <th>YEAR11</th>\n",
       "      <th>YEAR12</th>\n",
       "      <th>PRIORITY</th>\n",
       "      <th>geometry_wkt</th>\n",
       "    </tr>\n",
       "  </thead>\n",
       "  <tbody>\n",
       "    <tr>\n",
       "      <th>0</th>\n",
       "      <td>8503</td>\n",
       "      <td>HIGH_COED</td>\n",
       "      <td>Billabong HS</td>\n",
       "      <td>20200507</td>\n",
       "      <td>N</td>\n",
       "      <td>N</td>\n",
       "      <td>N</td>\n",
       "      <td>N</td>\n",
       "      <td>N</td>\n",
       "      <td>N</td>\n",
       "      <td>N</td>\n",
       "      <td>Y</td>\n",
       "      <td>Y</td>\n",
       "      <td>Y</td>\n",
       "      <td>Y</td>\n",
       "      <td>Y</td>\n",
       "      <td>Y</td>\n",
       "      <td>None</td>\n",
       "      <td>MULTIPOLYGON (((146.67182402032344 -35.3144375...</td>\n",
       "    </tr>\n",
       "  </tbody>\n",
       "</table>\n",
       "</div>"
      ],
      "text/plain": [
       "  USE_ID CATCH_TYPE      USE_DESC  ADD_DATE KINDERGART YEAR1 YEAR2 YEAR3  \\\n",
       "0   8503  HIGH_COED  Billabong HS  20200507          N     N     N     N   \n",
       "\n",
       "  YEAR4 YEAR5 YEAR6 YEAR7 YEAR8 YEAR9 YEAR10 YEAR11 YEAR12 PRIORITY  \\\n",
       "0     N     N     N     Y     Y     Y      Y      Y      Y     None   \n",
       "\n",
       "                                        geometry_wkt  \n",
       "0  MULTIPOLYGON (((146.67182402032344 -35.3144375...  "
      ]
     },
     "execution_count": 23,
     "metadata": {},
     "output_type": "execute_result"
    }
   ],
   "source": [
    "catchments_secondary = gpd.read_file(\"catchments/catchments_secondary.shp\")\n",
    "catchments_secondary['geometry_wkt'] = catchments_secondary['geometry'].apply(lambda x: create_wkt_element(geom=x, srid=srid)) \n",
    "catchments_secondary = catchments_secondary.drop(columns=\"geometry\")\n",
    "catchments_secondary.head(1)"
   ]
  },
  {
   "cell_type": "code",
   "execution_count": 24,
   "id": "fe4f49a2",
   "metadata": {},
   "outputs": [
    {
     "data": {
      "text/plain": [
       "<sqlalchemy.engine.cursor.LegacyCursorResult at 0x17439dad0>"
      ]
     },
     "execution_count": 24,
     "metadata": {},
     "output_type": "execute_result"
    }
   ],
   "source": [
    "conn.execute(\"\"\"\n",
    "\n",
    "DROP TABLE IF EXISTS catchments_future;\n",
    "CREATE TABLE catchments_future (\n",
    "    \"USE_ID\" VARCHAR(255),\n",
    "    \"CATCH_TYPE\" VARCHAR(255),\n",
    "    \"USE_DESC\" VARCHAR(255),\n",
    "    \"ADD_DATE\" DATE,\n",
    "    \"KINDERGART\" INTEGER,\n",
    "    \"YEAR1\" INTEGER,\n",
    "    \"YEAR2\" INTEGER,\n",
    "    \"YEAR3\" INTEGER,\n",
    "    \"YEAR4\" INTEGER,\n",
    "    \"YEAR5\" INTEGER,\n",
    "    \"YEAR6\" INTEGER,\n",
    "    \"YEAR7\" INTEGER,\n",
    "    \"YEAR8\" INTEGER,\n",
    "    \"YEAR9\" INTEGER,\n",
    "    \"YEAR10\" INTEGER,\n",
    "    \"YEAR11\" INTEGER,\n",
    "    \"YEAR12\" INTEGER,\n",
    "    geometry_wkt GEOMETRY(MULTIPOLYGON,4326)\n",
    ");\n",
    "\"\"\")\n",
    "\n",
    "conn.execute(\"\"\"\n",
    "DROP TABLE IF EXISTS catchments_primary;\n",
    "CREATE TABLE catchments_primary (\n",
    "    \"USE_ID\" VARCHAR(255),\n",
    "    \"CATCH_TYPE\" VARCHAR(255),\n",
    "    \"USE_DESC\" VARCHAR(255),\n",
    "    \"ADD_DATE\" VARCHAR(255),\n",
    "    \"KINDERGART\" VARCHAR(1),\n",
    "    \"YEAR1\" VARCHAR(1),\n",
    "    \"YEAR2\" VARCHAR(1),\n",
    "    \"YEAR3\" VARCHAR(1),\n",
    "    \"YEAR4\" VARCHAR(1),\n",
    "    \"YEAR5\" VARCHAR(1),\n",
    "    \"YEAR6\" VARCHAR(1),\n",
    "    \"YEAR7\" VARCHAR(1),\n",
    "    \"YEAR8\" VARCHAR(1),\n",
    "    \"YEAR9\" VARCHAR(1),\n",
    "    \"YEAR10\" VARCHAR(1),\n",
    "    \"YEAR11\" VARCHAR(1),\n",
    "    \"YEAR12\" VARCHAR(1),\n",
    "    \"PRIORITY\" VARCHAR(255),\n",
    "    geometry_wkt GEOMETRY(MULTIPOLYGON,4326)\n",
    ");\n",
    "\"\"\")\n",
    "\n",
    "conn.execute(\"\"\"\n",
    "DROP TABLE IF EXISTS catchments_secondary;\n",
    "CREATE TABLE catchments_secondary (\n",
    "    \"USE_ID\" VARCHAR(255),\n",
    "    \"CATCH_TYPE\" VARCHAR(255),\n",
    "    \"USE_DESC\" VARCHAR(255),\n",
    "    \"ADD_DATE\" VARCHAR(255),\n",
    "    \"KINDERGART\" VARCHAR(1),\n",
    "    \"YEAR1\" VARCHAR(1),\n",
    "    \"YEAR2\" VARCHAR(1),\n",
    "    \"YEAR3\" VARCHAR(1),\n",
    "    \"YEAR4\" VARCHAR(1),\n",
    "    \"YEAR5\" VARCHAR(1),\n",
    "    \"YEAR6\" VARCHAR(1),\n",
    "    \"YEAR7\" VARCHAR(1),\n",
    "    \"YEAR8\" VARCHAR(1),\n",
    "    \"YEAR9\" VARCHAR(1),\n",
    "    \"YEAR10\" VARCHAR(1),\n",
    "    \"YEAR11\" VARCHAR(1),\n",
    "    \"YEAR12\" VARCHAR(1),\n",
    "    \"PRIORITY\" VARCHAR(255),\n",
    "    geometry_wkt GEOMETRY(MULTIPOLYGON,4326)\n",
    ");\n",
    "\"\"\")"
   ]
  },
  {
   "cell_type": "code",
   "execution_count": 25,
   "id": "8db7916f",
   "metadata": {},
   "outputs": [
    {
     "data": {
      "text/plain": [
       "USE_ID          object\n",
       "CATCH_TYPE      object\n",
       "USE_DESC        object\n",
       "ADD_DATE        object\n",
       "KINDERGART       int32\n",
       "YEAR1            int32\n",
       "YEAR2            int32\n",
       "YEAR3            int32\n",
       "YEAR4            int32\n",
       "YEAR5            int32\n",
       "YEAR6            int32\n",
       "YEAR7            int32\n",
       "YEAR8            int32\n",
       "YEAR9            int32\n",
       "YEAR10           int32\n",
       "YEAR11           int32\n",
       "YEAR12           int32\n",
       "geometry_wkt    object\n",
       "dtype: object"
      ]
     },
     "execution_count": 25,
     "metadata": {},
     "output_type": "execute_result"
    }
   ],
   "source": [
    "catchments_future.dtypes"
   ]
  },
  {
   "cell_type": "code",
   "execution_count": 26,
   "id": "85ad06c6",
   "metadata": {
    "scrolled": false
   },
   "outputs": [
    {
     "data": {
      "text/plain": [
       "436"
      ]
     },
     "execution_count": 26,
     "metadata": {},
     "output_type": "execute_result"
    }
   ],
   "source": [
    "catchments_future.to_sql(\"catchments_future\", conn, if_exists='replace', index=False, dtype={\n",
    "    'geometry_wkt': Geometry('MULTIPOLYGON', srid)\n",
    "})\n",
    "catchments_primary.to_sql(\"catchments_primary\", conn, if_exists='replace', index=False, dtype={\n",
    "    'geometry_wkt': Geometry('MULTIPOLYGON', srid)\n",
    "})\n",
    "catchments_secondary.to_sql(\"catchments_secondary\", conn, if_exists='replace', index=False, dtype={\n",
    "    'geometry_wkt': Geometry('MULTIPOLYGON', srid)\n",
    "})"
   ]
  },
  {
   "cell_type": "code",
   "execution_count": 27,
   "id": "cb5f05c6",
   "metadata": {
    "scrolled": true
   },
   "outputs": [
    {
     "data": {
      "text/html": [
       "<div>\n",
       "<style scoped>\n",
       "    .dataframe tbody tr th:only-of-type {\n",
       "        vertical-align: middle;\n",
       "    }\n",
       "\n",
       "    .dataframe tbody tr th {\n",
       "        vertical-align: top;\n",
       "    }\n",
       "\n",
       "    .dataframe thead th {\n",
       "        text-align: right;\n",
       "    }\n",
       "</style>\n",
       "<table border=\"1\" class=\"dataframe\">\n",
       "  <thead>\n",
       "    <tr style=\"text-align: right;\">\n",
       "      <th></th>\n",
       "      <th>USE_ID</th>\n",
       "      <th>CATCH_TYPE</th>\n",
       "      <th>USE_DESC</th>\n",
       "      <th>ADD_DATE</th>\n",
       "      <th>KINDERGART</th>\n",
       "      <th>YEAR1</th>\n",
       "      <th>YEAR2</th>\n",
       "      <th>YEAR3</th>\n",
       "      <th>YEAR4</th>\n",
       "      <th>YEAR5</th>\n",
       "      <th>YEAR6</th>\n",
       "      <th>YEAR7</th>\n",
       "      <th>YEAR8</th>\n",
       "      <th>YEAR9</th>\n",
       "      <th>YEAR10</th>\n",
       "      <th>YEAR11</th>\n",
       "      <th>YEAR12</th>\n",
       "      <th>PRIORITY</th>\n",
       "      <th>geometry_wkt</th>\n",
       "    </tr>\n",
       "  </thead>\n",
       "  <tbody>\n",
       "    <tr>\n",
       "      <th>0</th>\n",
       "      <td>2838</td>\n",
       "      <td>PRIMARY</td>\n",
       "      <td>Parklea PS</td>\n",
       "      <td>20181210</td>\n",
       "      <td>Y</td>\n",
       "      <td>Y</td>\n",
       "      <td>Y</td>\n",
       "      <td>Y</td>\n",
       "      <td>Y</td>\n",
       "      <td>Y</td>\n",
       "      <td>Y</td>\n",
       "      <td>N</td>\n",
       "      <td>N</td>\n",
       "      <td>N</td>\n",
       "      <td>N</td>\n",
       "      <td>N</td>\n",
       "      <td>N</td>\n",
       "      <td>None</td>\n",
       "      <td>MULTIPOLYGON (((150.93563850416004 -33.7161211...</td>\n",
       "    </tr>\n",
       "  </tbody>\n",
       "</table>\n",
       "</div>"
      ],
      "text/plain": [
       "  USE_ID CATCH_TYPE    USE_DESC  ADD_DATE KINDERGART YEAR1 YEAR2 YEAR3 YEAR4  \\\n",
       "0   2838    PRIMARY  Parklea PS  20181210          Y     Y     Y     Y     Y   \n",
       "\n",
       "  YEAR5 YEAR6 YEAR7 YEAR8 YEAR9 YEAR10 YEAR11 YEAR12 PRIORITY  \\\n",
       "0     Y     Y     N     N     N      N      N      N     None   \n",
       "\n",
       "                                        geometry_wkt  \n",
       "0  MULTIPOLYGON (((150.93563850416004 -33.7161211...  "
      ]
     },
     "execution_count": 27,
     "metadata": {},
     "output_type": "execute_result"
    }
   ],
   "source": [
    "total_catchments = pd.concat([catchments_primary, catchments_secondary, catchments_future])\n",
    "total_catchments.head(1)"
   ]
  },
  {
   "cell_type": "code",
   "execution_count": 28,
   "id": "f5c5c812",
   "metadata": {},
   "outputs": [
    {
     "data": {
      "text/plain": [
       "128"
      ]
     },
     "execution_count": 28,
     "metadata": {},
     "output_type": "execute_result"
    }
   ],
   "source": [
    "total_catchments.to_sql(\"total_catchments\", conn, if_exists='replace', index=False, dtype={\n",
    "    'geometry_wkt': Geometry('MULTIPOLYGON', srid)\n",
    "})"
   ]
  },
  {
   "cell_type": "code",
   "execution_count": null,
   "id": "13b429b8",
   "metadata": {},
   "outputs": [],
   "source": []
  }
 ],
 "metadata": {
  "kernelspec": {
   "display_name": "Python 3 (ipykernel)",
   "language": "python",
   "name": "python3"
  },
  "language_info": {
   "codemirror_mode": {
    "name": "ipython",
    "version": 3
   },
   "file_extension": ".py",
   "mimetype": "text/x-python",
   "name": "python",
   "nbconvert_exporter": "python",
   "pygments_lexer": "ipython3",
   "version": "3.11.5"
  }
 },
 "nbformat": 4,
 "nbformat_minor": 5
}
